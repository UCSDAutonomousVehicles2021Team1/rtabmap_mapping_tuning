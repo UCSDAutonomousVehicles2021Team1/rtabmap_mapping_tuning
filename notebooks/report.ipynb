{
 "cells": [
  {
   "cell_type": "markdown",
   "metadata": {},
   "source": [
    "# Introduction\n",
    "\n",
    "In this notebook we do a basic data exploratory analysis of the datasets we will be using to evaluate the RTABMAP SLAM algorithm"
   ]
  },
  {
   "cell_type": "code",
   "execution_count": 1,
   "metadata": {},
   "outputs": [],
   "source": [
    "import pandas as pd\n",
    "import numpy as np\n",
    "import matplotlib.pyplot as plt"
   ]
  },
  {
   "cell_type": "code",
   "execution_count": 2,
   "metadata": {},
   "outputs": [],
   "source": [
    "gt = pd.read_csv('../data/poses/param1_gt.txt', header=None, sep=\" \").rename(columns={0:'timestamp', \n",
    "                   1:'x', \n",
    "                   2:'y', \n",
    "                   3:'z', \n",
    "                   4:'r_x', \n",
    "                   5:'r_y', \n",
    "                   6:'r_z',\n",
    "                   7:'r_w'})\n",
    "odom = pd.read_csv('../data/poses/param1_odom.txt', header=None, sep=\" \").rename(columns={0:'timestamp', \n",
    "                   1:'x', \n",
    "                   2:'y', \n",
    "                   3:'z', \n",
    "                   4:'r_x', \n",
    "                   5:'r_y', \n",
    "                   6:'r_z',\n",
    "                   7:'r_w'})\n",
    "slam = pd.read_csv('../data/poses/param1_slam.txt', header=None, sep=\" \").rename(columns={0:'timestamp', \n",
    "                   1:'x', \n",
    "                   2:'y', \n",
    "                   3:'z', \n",
    "                   4:'r_x', \n",
    "                   5:'r_y', \n",
    "                   6:'r_z',\n",
    "                   7:'r_w'})"
   ]
  },
  {
   "cell_type": "markdown",
   "metadata": {},
   "source": [
    "We get 3 different files from 3 different sensors. One file for the ground truth, one file for the SLAM trajectory estimation, one file for the odometry trajectory estimation. We use the ground truth to compare to rest of the files to calculate the Absolute Trajectory Error(using the SLAM trajectory) and Relative Pose Error (using the odometry trajectory)."
   ]
  },
  {
   "cell_type": "markdown",
   "metadata": {},
   "source": [
    "Each dataset has 8 columns. The first column is the 'timestamp', the next three columns are transformation vectors that could be interpreted as the 'x', 'y', and 'z' positions of the robot. The last four columns are the rotational vectors that control how the car turns which can be interpreted as, roll(qx), pitch(qy), yaw(qz) and angle(qw)."
   ]
  },
  {
   "cell_type": "markdown",
   "metadata": {},
   "source": [
    "### Ground Truth Data:"
   ]
  },
  {
   "cell_type": "code",
   "execution_count": 3,
   "metadata": {},
   "outputs": [
    {
     "data": {
      "text/html": [
       "<div>\n",
       "<style scoped>\n",
       "    .dataframe tbody tr th:only-of-type {\n",
       "        vertical-align: middle;\n",
       "    }\n",
       "\n",
       "    .dataframe tbody tr th {\n",
       "        vertical-align: top;\n",
       "    }\n",
       "\n",
       "    .dataframe thead th {\n",
       "        text-align: right;\n",
       "    }\n",
       "</style>\n",
       "<table border=\"1\" class=\"dataframe\">\n",
       "  <thead>\n",
       "    <tr style=\"text-align: right;\">\n",
       "      <th></th>\n",
       "      <th>timestamp</th>\n",
       "      <th>x</th>\n",
       "      <th>y</th>\n",
       "      <th>z</th>\n",
       "      <th>r_x</th>\n",
       "      <th>r_y</th>\n",
       "      <th>r_z</th>\n",
       "      <th>r_w</th>\n",
       "    </tr>\n",
       "  </thead>\n",
       "  <tbody>\n",
       "    <tr>\n",
       "      <th>0</th>\n",
       "      <td>949.666</td>\n",
       "      <td>8.047289</td>\n",
       "      <td>-2.453922</td>\n",
       "      <td>0.100001</td>\n",
       "      <td>0.000000</td>\n",
       "      <td>-0.000003</td>\n",
       "      <td>-0.726555</td>\n",
       "      <td>0.687108</td>\n",
       "    </tr>\n",
       "    <tr>\n",
       "      <th>1</th>\n",
       "      <td>950.716</td>\n",
       "      <td>7.959093</td>\n",
       "      <td>-4.034249</td>\n",
       "      <td>0.100002</td>\n",
       "      <td>-0.000001</td>\n",
       "      <td>-0.000001</td>\n",
       "      <td>-0.726527</td>\n",
       "      <td>0.687138</td>\n",
       "    </tr>\n",
       "    <tr>\n",
       "      <th>2</th>\n",
       "      <td>951.766</td>\n",
       "      <td>7.870961</td>\n",
       "      <td>-5.614591</td>\n",
       "      <td>0.100002</td>\n",
       "      <td>-0.000001</td>\n",
       "      <td>-0.000001</td>\n",
       "      <td>-0.726527</td>\n",
       "      <td>0.687138</td>\n",
       "    </tr>\n",
       "    <tr>\n",
       "      <th>3</th>\n",
       "      <td>952.816</td>\n",
       "      <td>7.889397</td>\n",
       "      <td>-6.329350</td>\n",
       "      <td>0.099999</td>\n",
       "      <td>0.000003</td>\n",
       "      <td>-0.000006</td>\n",
       "      <td>-0.836952</td>\n",
       "      <td>0.547276</td>\n",
       "    </tr>\n",
       "    <tr>\n",
       "      <th>4</th>\n",
       "      <td>953.866</td>\n",
       "      <td>7.866745</td>\n",
       "      <td>-6.317075</td>\n",
       "      <td>0.109504</td>\n",
       "      <td>0.022485</td>\n",
       "      <td>0.007712</td>\n",
       "      <td>0.945419</td>\n",
       "      <td>-0.324988</td>\n",
       "    </tr>\n",
       "  </tbody>\n",
       "</table>\n",
       "</div>"
      ],
      "text/plain": [
       "   timestamp         x         y         z       r_x       r_y       r_z  \\\n",
       "0    949.666  8.047289 -2.453922  0.100001  0.000000 -0.000003 -0.726555   \n",
       "1    950.716  7.959093 -4.034249  0.100002 -0.000001 -0.000001 -0.726527   \n",
       "2    951.766  7.870961 -5.614591  0.100002 -0.000001 -0.000001 -0.726527   \n",
       "3    952.816  7.889397 -6.329350  0.099999  0.000003 -0.000006 -0.836952   \n",
       "4    953.866  7.866745 -6.317075  0.109504  0.022485  0.007712  0.945419   \n",
       "\n",
       "        r_w  \n",
       "0  0.687108  \n",
       "1  0.687138  \n",
       "2  0.687138  \n",
       "3  0.547276  \n",
       "4 -0.324988  "
      ]
     },
     "execution_count": 3,
     "metadata": {},
     "output_type": "execute_result"
    }
   ],
   "source": [
    "gt.head()"
   ]
  },
  {
   "cell_type": "markdown",
   "metadata": {},
   "source": [
    "### Odometry Data:"
   ]
  },
  {
   "cell_type": "code",
   "execution_count": 4,
   "metadata": {},
   "outputs": [
    {
     "data": {
      "text/html": [
       "<div>\n",
       "<style scoped>\n",
       "    .dataframe tbody tr th:only-of-type {\n",
       "        vertical-align: middle;\n",
       "    }\n",
       "\n",
       "    .dataframe tbody tr th {\n",
       "        vertical-align: top;\n",
       "    }\n",
       "\n",
       "    .dataframe thead th {\n",
       "        text-align: right;\n",
       "    }\n",
       "</style>\n",
       "<table border=\"1\" class=\"dataframe\">\n",
       "  <thead>\n",
       "    <tr style=\"text-align: right;\">\n",
       "      <th></th>\n",
       "      <th>timestamp</th>\n",
       "      <th>x</th>\n",
       "      <th>y</th>\n",
       "      <th>z</th>\n",
       "      <th>r_x</th>\n",
       "      <th>r_y</th>\n",
       "      <th>r_z</th>\n",
       "      <th>r_w</th>\n",
       "    </tr>\n",
       "  </thead>\n",
       "  <tbody>\n",
       "    <tr>\n",
       "      <th>0</th>\n",
       "      <td>949.666</td>\n",
       "      <td>8.047204</td>\n",
       "      <td>-2.455426</td>\n",
       "      <td>0.100001</td>\n",
       "      <td>-0.000001</td>\n",
       "      <td>-0.000006</td>\n",
       "      <td>-0.726555</td>\n",
       "      <td>0.687108</td>\n",
       "    </tr>\n",
       "    <tr>\n",
       "      <th>1</th>\n",
       "      <td>950.716</td>\n",
       "      <td>7.958999</td>\n",
       "      <td>-4.035922</td>\n",
       "      <td>0.100002</td>\n",
       "      <td>-0.000001</td>\n",
       "      <td>-0.000001</td>\n",
       "      <td>-0.726527</td>\n",
       "      <td>0.687138</td>\n",
       "    </tr>\n",
       "    <tr>\n",
       "      <th>2</th>\n",
       "      <td>951.766</td>\n",
       "      <td>7.870878</td>\n",
       "      <td>-5.616096</td>\n",
       "      <td>0.100002</td>\n",
       "      <td>-0.000001</td>\n",
       "      <td>0.000004</td>\n",
       "      <td>-0.726526</td>\n",
       "      <td>0.687138</td>\n",
       "    </tr>\n",
       "    <tr>\n",
       "      <th>3</th>\n",
       "      <td>952.816</td>\n",
       "      <td>7.889404</td>\n",
       "      <td>-6.329226</td>\n",
       "      <td>0.100001</td>\n",
       "      <td>-0.000002</td>\n",
       "      <td>0.000001</td>\n",
       "      <td>-0.837040</td>\n",
       "      <td>0.547142</td>\n",
       "    </tr>\n",
       "    <tr>\n",
       "      <th>4</th>\n",
       "      <td>953.866</td>\n",
       "      <td>7.866321</td>\n",
       "      <td>-6.317363</td>\n",
       "      <td>0.109961</td>\n",
       "      <td>0.023555</td>\n",
       "      <td>0.008090</td>\n",
       "      <td>0.945478</td>\n",
       "      <td>-0.324731</td>\n",
       "    </tr>\n",
       "  </tbody>\n",
       "</table>\n",
       "</div>"
      ],
      "text/plain": [
       "   timestamp         x         y         z       r_x       r_y       r_z  \\\n",
       "0    949.666  8.047204 -2.455426  0.100001 -0.000001 -0.000006 -0.726555   \n",
       "1    950.716  7.958999 -4.035922  0.100002 -0.000001 -0.000001 -0.726527   \n",
       "2    951.766  7.870878 -5.616096  0.100002 -0.000001  0.000004 -0.726526   \n",
       "3    952.816  7.889404 -6.329226  0.100001 -0.000002  0.000001 -0.837040   \n",
       "4    953.866  7.866321 -6.317363  0.109961  0.023555  0.008090  0.945478   \n",
       "\n",
       "        r_w  \n",
       "0  0.687108  \n",
       "1  0.687138  \n",
       "2  0.687138  \n",
       "3  0.547142  \n",
       "4 -0.324731  "
      ]
     },
     "execution_count": 4,
     "metadata": {},
     "output_type": "execute_result"
    }
   ],
   "source": [
    "odom.head()"
   ]
  },
  {
   "cell_type": "markdown",
   "metadata": {},
   "source": [
    "### SLAM Data:"
   ]
  },
  {
   "cell_type": "code",
   "execution_count": 5,
   "metadata": {},
   "outputs": [
    {
     "data": {
      "text/html": [
       "<div>\n",
       "<style scoped>\n",
       "    .dataframe tbody tr th:only-of-type {\n",
       "        vertical-align: middle;\n",
       "    }\n",
       "\n",
       "    .dataframe tbody tr th {\n",
       "        vertical-align: top;\n",
       "    }\n",
       "\n",
       "    .dataframe thead th {\n",
       "        text-align: right;\n",
       "    }\n",
       "</style>\n",
       "<table border=\"1\" class=\"dataframe\">\n",
       "  <thead>\n",
       "    <tr style=\"text-align: right;\">\n",
       "      <th></th>\n",
       "      <th>timestamp</th>\n",
       "      <th>x</th>\n",
       "      <th>y</th>\n",
       "      <th>z</th>\n",
       "      <th>r_x</th>\n",
       "      <th>r_y</th>\n",
       "      <th>r_z</th>\n",
       "      <th>r_w</th>\n",
       "    </tr>\n",
       "  </thead>\n",
       "  <tbody>\n",
       "    <tr>\n",
       "      <th>0</th>\n",
       "      <td>949.666</td>\n",
       "      <td>8.048130</td>\n",
       "      <td>-2.432435</td>\n",
       "      <td>0.100277</td>\n",
       "      <td>0.000063</td>\n",
       "      <td>-0.000040</td>\n",
       "      <td>-0.724434</td>\n",
       "      <td>0.689345</td>\n",
       "    </tr>\n",
       "    <tr>\n",
       "      <th>1</th>\n",
       "      <td>950.716</td>\n",
       "      <td>7.969673</td>\n",
       "      <td>-4.013444</td>\n",
       "      <td>0.100206</td>\n",
       "      <td>0.000063</td>\n",
       "      <td>-0.000035</td>\n",
       "      <td>-0.724406</td>\n",
       "      <td>0.689374</td>\n",
       "    </tr>\n",
       "    <tr>\n",
       "      <th>2</th>\n",
       "      <td>951.766</td>\n",
       "      <td>7.891295</td>\n",
       "      <td>-5.594132</td>\n",
       "      <td>0.100133</td>\n",
       "      <td>0.000063</td>\n",
       "      <td>-0.000030</td>\n",
       "      <td>-0.724405</td>\n",
       "      <td>0.689375</td>\n",
       "    </tr>\n",
       "    <tr>\n",
       "      <th>3</th>\n",
       "      <td>952.816</td>\n",
       "      <td>7.914218</td>\n",
       "      <td>-6.307135</td>\n",
       "      <td>0.100108</td>\n",
       "      <td>0.000068</td>\n",
       "      <td>-0.000021</td>\n",
       "      <td>-0.835349</td>\n",
       "      <td>0.549720</td>\n",
       "    </tr>\n",
       "    <tr>\n",
       "      <th>4</th>\n",
       "      <td>953.866</td>\n",
       "      <td>7.891061</td>\n",
       "      <td>-6.295414</td>\n",
       "      <td>0.110065</td>\n",
       "      <td>0.023457</td>\n",
       "      <td>0.008167</td>\n",
       "      <td>0.944475</td>\n",
       "      <td>-0.327644</td>\n",
       "    </tr>\n",
       "  </tbody>\n",
       "</table>\n",
       "</div>"
      ],
      "text/plain": [
       "   timestamp         x         y         z       r_x       r_y       r_z  \\\n",
       "0    949.666  8.048130 -2.432435  0.100277  0.000063 -0.000040 -0.724434   \n",
       "1    950.716  7.969673 -4.013444  0.100206  0.000063 -0.000035 -0.724406   \n",
       "2    951.766  7.891295 -5.594132  0.100133  0.000063 -0.000030 -0.724405   \n",
       "3    952.816  7.914218 -6.307135  0.100108  0.000068 -0.000021 -0.835349   \n",
       "4    953.866  7.891061 -6.295414  0.110065  0.023457  0.008167  0.944475   \n",
       "\n",
       "        r_w  \n",
       "0  0.689345  \n",
       "1  0.689374  \n",
       "2  0.689375  \n",
       "3  0.549720  \n",
       "4 -0.327644  "
      ]
     },
     "execution_count": 5,
     "metadata": {},
     "output_type": "execute_result"
    }
   ],
   "source": [
    "slam.head()"
   ]
  },
  {
   "cell_type": "markdown",
   "metadata": {},
   "source": [
    "## Time Stamp Column:"
   ]
  },
  {
   "cell_type": "markdown",
   "metadata": {},
   "source": [
    "Since all 3 datasets are collected at the same time, there is no variation between the 3 datasets."
   ]
  },
  {
   "cell_type": "markdown",
   "metadata": {},
   "source": [
    "<!-- ![timestamp](../data/report/timestamp.png) -->\n",
    "<img src=\"../data/report/timestamp.png\" alt=\"timestamp\">"
   ]
  },
  {
   "cell_type": "markdown",
   "metadata": {},
   "source": [
    "## X and Y Columns:"
   ]
  },
  {
   "cell_type": "markdown",
   "metadata": {},
   "source": [
    "If we were to graph these two columns, we are able to see the trajectory of the car."
   ]
  },
  {
   "cell_type": "markdown",
   "metadata": {},
   "source": [
    "We can see that they all seem to plot the same path which is a good sign"
   ]
  },
  {
   "cell_type": "markdown",
   "metadata": {},
   "source": [
    "![paths](../data/report/xy.png)"
   ]
  },
  {
   "cell_type": "markdown",
   "metadata": {},
   "source": [
    "## Z Column:"
   ]
  },
  {
   "cell_type": "markdown",
   "metadata": {},
   "source": [
    "Since there is no elevation change in the simulation, our 'z' values are similar"
   ]
  },
  {
   "cell_type": "code",
   "execution_count": 6,
   "metadata": {},
   "outputs": [
    {
     "data": {
      "text/html": [
       "<div>\n",
       "<style scoped>\n",
       "    .dataframe tbody tr th:only-of-type {\n",
       "        vertical-align: middle;\n",
       "    }\n",
       "\n",
       "    .dataframe tbody tr th {\n",
       "        vertical-align: top;\n",
       "    }\n",
       "\n",
       "    .dataframe thead th {\n",
       "        text-align: right;\n",
       "    }\n",
       "</style>\n",
       "<table border=\"1\" class=\"dataframe\">\n",
       "  <thead>\n",
       "    <tr style=\"text-align: right;\">\n",
       "      <th></th>\n",
       "      <th>Average Value of Z</th>\n",
       "    </tr>\n",
       "  </thead>\n",
       "  <tbody>\n",
       "    <tr>\n",
       "      <th>Ground Truth</th>\n",
       "      <td>0.103604</td>\n",
       "    </tr>\n",
       "    <tr>\n",
       "      <th>Odometry</th>\n",
       "      <td>0.103617</td>\n",
       "    </tr>\n",
       "    <tr>\n",
       "      <th>SLAM</th>\n",
       "      <td>0.103623</td>\n",
       "    </tr>\n",
       "  </tbody>\n",
       "</table>\n",
       "</div>"
      ],
      "text/plain": [
       "              Average Value of Z\n",
       "Ground Truth            0.103604\n",
       "Odometry                0.103617\n",
       "SLAM                    0.103623"
      ]
     },
     "execution_count": 6,
     "metadata": {},
     "output_type": "execute_result"
    }
   ],
   "source": [
    "pd.read_csv('../data/report/z.csv', index_col=0)"
   ]
  },
  {
   "cell_type": "markdown",
   "metadata": {},
   "source": [
    "When we graph all 3 datasets' z values, we see that it overlaps with each other."
   ]
  },
  {
   "cell_type": "markdown",
   "metadata": {},
   "source": [
    "![z similarity](../data/report/z.png)"
   ]
  },
  {
   "cell_type": "markdown",
   "metadata": {},
   "source": [
    "## Rotational Vectors:"
   ]
  },
  {
   "cell_type": "markdown",
   "metadata": {},
   "source": [
    "### Vectors r_x, r_y:"
   ]
  },
  {
   "cell_type": "markdown",
   "metadata": {},
   "source": [
    "The last four columns are the quarternions. We generally see the rotaional values change when the x and y values have a change in direction.\n",
    "\n",
    "Since this is a car, there is no pitch and roll, the first two rotional vectors, they are relatively the same across all 3 datasets. "
   ]
  },
  {
   "cell_type": "code",
   "execution_count": 7,
   "metadata": {},
   "outputs": [
    {
     "data": {
      "text/html": [
       "<div>\n",
       "<style scoped>\n",
       "    .dataframe tbody tr th:only-of-type {\n",
       "        vertical-align: middle;\n",
       "    }\n",
       "\n",
       "    .dataframe tbody tr th {\n",
       "        vertical-align: top;\n",
       "    }\n",
       "\n",
       "    .dataframe thead th {\n",
       "        text-align: right;\n",
       "    }\n",
       "</style>\n",
       "<table border=\"1\" class=\"dataframe\">\n",
       "  <thead>\n",
       "    <tr style=\"text-align: right;\">\n",
       "      <th></th>\n",
       "      <th>Average Value of Rotations X</th>\n",
       "    </tr>\n",
       "  </thead>\n",
       "  <tbody>\n",
       "    <tr>\n",
       "      <th>Ground Truth</th>\n",
       "      <td>0.007388</td>\n",
       "    </tr>\n",
       "    <tr>\n",
       "      <th>Odometry</th>\n",
       "      <td>0.007657</td>\n",
       "    </tr>\n",
       "    <tr>\n",
       "      <th>SLAM</th>\n",
       "      <td>0.007642</td>\n",
       "    </tr>\n",
       "  </tbody>\n",
       "</table>\n",
       "</div>"
      ],
      "text/plain": [
       "              Average Value of Rotations X\n",
       "Ground Truth                      0.007388\n",
       "Odometry                          0.007657\n",
       "SLAM                              0.007642"
      ]
     },
     "execution_count": 7,
     "metadata": {},
     "output_type": "execute_result"
    }
   ],
   "source": [
    "pd.read_csv('../data/report/rx.csv', index_col=0)"
   ]
  },
  {
   "cell_type": "markdown",
   "metadata": {},
   "source": [
    "![rx similarity](../data/report/rx.png)"
   ]
  },
  {
   "cell_type": "code",
   "execution_count": 8,
   "metadata": {},
   "outputs": [
    {
     "data": {
      "text/html": [
       "<div>\n",
       "<style scoped>\n",
       "    .dataframe tbody tr th:only-of-type {\n",
       "        vertical-align: middle;\n",
       "    }\n",
       "\n",
       "    .dataframe tbody tr th {\n",
       "        vertical-align: top;\n",
       "    }\n",
       "\n",
       "    .dataframe thead th {\n",
       "        text-align: right;\n",
       "    }\n",
       "</style>\n",
       "<table border=\"1\" class=\"dataframe\">\n",
       "  <thead>\n",
       "    <tr style=\"text-align: right;\">\n",
       "      <th></th>\n",
       "      <th>Average Value of Rotations Y</th>\n",
       "    </tr>\n",
       "  </thead>\n",
       "  <tbody>\n",
       "    <tr>\n",
       "      <th>Ground Truth</th>\n",
       "      <td>0.000599</td>\n",
       "    </tr>\n",
       "    <tr>\n",
       "      <th>Odometry</th>\n",
       "      <td>0.000633</td>\n",
       "    </tr>\n",
       "    <tr>\n",
       "      <th>SLAM</th>\n",
       "      <td>0.000638</td>\n",
       "    </tr>\n",
       "  </tbody>\n",
       "</table>\n",
       "</div>"
      ],
      "text/plain": [
       "              Average Value of Rotations Y\n",
       "Ground Truth                      0.000599\n",
       "Odometry                          0.000633\n",
       "SLAM                              0.000638"
      ]
     },
     "execution_count": 8,
     "metadata": {},
     "output_type": "execute_result"
    }
   ],
   "source": [
    "pd.read_csv('../data/report/ry.csv', index_col=0)"
   ]
  },
  {
   "cell_type": "markdown",
   "metadata": {},
   "source": [
    "![ry similarity](../data/report/ry.png)"
   ]
  },
  {
   "cell_type": "markdown",
   "metadata": {},
   "source": [
    "### Vectors r_w:"
   ]
  },
  {
   "cell_type": "markdown",
   "metadata": {},
   "source": [
    "The column 'r_w' corresponds to the angle of the wheel. The angles of the wheels also stays relatively the same across all 3 datasets."
   ]
  },
  {
   "cell_type": "code",
   "execution_count": 9,
   "metadata": {},
   "outputs": [
    {
     "data": {
      "text/html": [
       "<div>\n",
       "<style scoped>\n",
       "    .dataframe tbody tr th:only-of-type {\n",
       "        vertical-align: middle;\n",
       "    }\n",
       "\n",
       "    .dataframe tbody tr th {\n",
       "        vertical-align: top;\n",
       "    }\n",
       "\n",
       "    .dataframe thead th {\n",
       "        text-align: right;\n",
       "    }\n",
       "</style>\n",
       "<table border=\"1\" class=\"dataframe\">\n",
       "  <thead>\n",
       "    <tr style=\"text-align: right;\">\n",
       "      <th></th>\n",
       "      <th>Average Value of Rotations X</th>\n",
       "    </tr>\n",
       "  </thead>\n",
       "  <tbody>\n",
       "    <tr>\n",
       "      <th>Ground Truth</th>\n",
       "      <td>0.320712</td>\n",
       "    </tr>\n",
       "    <tr>\n",
       "      <th>Odometry</th>\n",
       "      <td>0.320750</td>\n",
       "    </tr>\n",
       "    <tr>\n",
       "      <th>SLAM</th>\n",
       "      <td>0.319115</td>\n",
       "    </tr>\n",
       "  </tbody>\n",
       "</table>\n",
       "</div>"
      ],
      "text/plain": [
       "              Average Value of Rotations X\n",
       "Ground Truth                      0.320712\n",
       "Odometry                          0.320750\n",
       "SLAM                              0.319115"
      ]
     },
     "execution_count": 9,
     "metadata": {},
     "output_type": "execute_result"
    }
   ],
   "source": [
    "pd.read_csv('../data/report/rw.csv', index_col=0)"
   ]
  },
  {
   "cell_type": "markdown",
   "metadata": {},
   "source": [
    "![rw similarity](../data/report/rw.png)"
   ]
  },
  {
   "cell_type": "markdown",
   "metadata": {},
   "source": [
    "### Vectors r_z:"
   ]
  },
  {
   "cell_type": "markdown",
   "metadata": {},
   "source": [
    "#### Ground Truth:"
   ]
  },
  {
   "cell_type": "markdown",
   "metadata": {},
   "source": [
    "If we look at the graph, we see that the first turn occurs around the same time there is a change in direction in the y column."
   ]
  },
  {
   "cell_type": "markdown",
   "metadata": {},
   "source": [
    "![rz_gt change](../data/report/rz_gt.png)"
   ]
  },
  {
   "cell_type": "markdown",
   "metadata": {},
   "source": [
    "This can be seen in all the datasets"
   ]
  },
  {
   "cell_type": "markdown",
   "metadata": {},
   "source": [
    "#### Odometry Data:"
   ]
  },
  {
   "cell_type": "markdown",
   "metadata": {},
   "source": [
    "![rz_odom change](../data/report/rz_odom.png)"
   ]
  },
  {
   "cell_type": "markdown",
   "metadata": {},
   "source": [
    "#### SLAM Data:"
   ]
  },
  {
   "cell_type": "markdown",
   "metadata": {},
   "source": [
    "![rz_slam change](../data/report/rz_slam.png)"
   ]
  }
 ],
 "metadata": {
  "kernelspec": {
   "display_name": "Python 3",
   "language": "python",
   "name": "python3"
  },
  "language_info": {
   "codemirror_mode": {
    "name": "ipython",
    "version": 3
   },
   "file_extension": ".py",
   "mimetype": "text/x-python",
   "name": "python",
   "nbconvert_exporter": "python",
   "pygments_lexer": "ipython3",
   "version": "3.7.6"
  }
 },
 "nbformat": 4,
 "nbformat_minor": 4
}
